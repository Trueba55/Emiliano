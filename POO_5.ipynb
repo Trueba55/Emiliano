{
  "nbformat": 4,
  "nbformat_minor": 0,
  "metadata": {
    "colab": {
      "provenance": []
    },
    "kernelspec": {
      "name": "python3",
      "display_name": "Python 3"
    },
    "language_info": {
      "name": "python"
    }
  },
  "cells": [
    {
      "cell_type": "markdown",
      "source": [
        "# Clases, herencias y polimorfismos\n"
      ],
      "metadata": {
        "id": "BOmcsO6ckdpA"
      }
    },
    {
      "cell_type": "code",
      "execution_count": null,
      "metadata": {
        "id": "x814ccPVj7m0"
      },
      "outputs": [],
      "source": [
        "# Vamos a crear una definición ( que es una función integrada en Python )\n",
        "\n",
        "import numpy as np\n",
        "def Milanesi(a,b,c):\n",
        "  x = a+b*c\n",
        "  return x"
      ]
    },
    {
      "cell_type": "code",
      "source": [
        "Milanesi(1,2,3)"
      ],
      "metadata": {
        "colab": {
          "base_uri": "https://localhost:8080/"
        },
        "id": "_zmFuBiQpHwZ",
        "outputId": "06bd3b7b-2227-4bcd-a423-3c4b7d298c3d"
      },
      "execution_count": null,
      "outputs": [
        {
          "output_type": "execute_result",
          "data": {
            "text/plain": [
              "7"
            ]
          },
          "metadata": {},
          "execution_count": 2
        }
      ]
    },
    {
      "cell_type": "code",
      "source": [
        "# Vamos a creae una definición que calcule la inversa de una matriz\n",
        "\n",
        "import numpy as np\n",
        "\n",
        "def InMatrix(M):\n",
        "  x = np.linalg.inv(M)\n",
        "\n",
        "  return x\n",
        "\n"
      ],
      "metadata": {
        "id": "swGdS3sYpcah"
      },
      "execution_count": null,
      "outputs": []
    },
    {
      "cell_type": "code",
      "source": [
        "import numpy as np"
      ],
      "metadata": {
        "id": "1n46IClTsGlc"
      },
      "execution_count": null,
      "outputs": []
    },
    {
      "cell_type": "code",
      "source": [
        "matriz = np.random.randint(low = 0, high = 100, size = (6,6))\n",
        "\n"
      ],
      "metadata": {
        "id": "NtQ3871drZtR"
      },
      "execution_count": null,
      "outputs": []
    },
    {
      "cell_type": "code",
      "source": [
        "InMatrix(matriz)"
      ],
      "metadata": {
        "colab": {
          "base_uri": "https://localhost:8080/"
        },
        "id": "uXABHq_9sldf",
        "outputId": "fe46f8bf-7c59-4573-fabc-9529898257a2"
      },
      "execution_count": null,
      "outputs": [
        {
          "output_type": "execute_result",
          "data": {
            "text/plain": [
              "array([[ 0.00320143,  0.00628342,  0.00363647, -0.00486623, -0.00636464,\n",
              "         0.00762241],\n",
              "       [ 0.01353309,  0.00525543, -0.0126547 , -0.00212881,  0.01387995,\n",
              "        -0.00443523],\n",
              "       [ 0.00690773, -0.00588179,  0.00122535,  0.00667916,  0.00067376,\n",
              "        -0.0104655 ],\n",
              "       [-0.03967151,  0.00656659,  0.03151216,  0.00866485, -0.02297273,\n",
              "        -0.01327719],\n",
              "       [-0.05065914,  0.00395006,  0.02271117,  0.01995779, -0.02790157,\n",
              "        -0.00549395],\n",
              "       [ 0.04837644, -0.01340804, -0.03307939, -0.01376223,  0.03843716,\n",
              "         0.02078044]])"
            ]
          },
          "metadata": {},
          "execution_count": 29
        }
      ]
    }
  ]
}