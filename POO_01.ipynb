{
  "nbformat": 4,
  "nbformat_minor": 0,
  "metadata": {
    "colab": {
      "provenance": []
    },
    "kernelspec": {
      "name": "python3",
      "display_name": "Python 3"
    },
    "language_info": {
      "name": "python"
    }
  },
  "cells": [
    {
      "cell_type": "markdown",
      "source": [
        "# Introducción a objetos\n",
        "## Primeros objetos\n"
      ],
      "metadata": {
        "id": "RayK6xueS9LF"
      }
    },
    {
      "cell_type": "markdown",
      "source": [
        "La función que identifica el tipo de objeto es la función `type`"
      ],
      "metadata": {
        "id": "21q50pItUoZa"
      }
    },
    {
      "cell_type": "markdown",
      "source": [
        "Las variables se escriben como sigue"
      ],
      "metadata": {
        "id": "_t7dhKRlVdAp"
      }
    },
    {
      "cell_type": "code",
      "source": [
        "num= 5\n",
        "\n",
        "saludo = \" Hola, mundo! \"\n",
        "\n",
        "print(num)\n",
        "\n",
        "print(saludo)\n",
        "\n"
      ],
      "metadata": {
        "colab": {
          "base_uri": "https://localhost:8080/"
        },
        "id": "ed0OipS0VmM8",
        "outputId": "c458276e-7253-42c6-9a2e-241382ca062b"
      },
      "execution_count": 5,
      "outputs": [
        {
          "output_type": "stream",
          "name": "stdout",
          "text": [
            "5\n",
            " Hola, mundo! \n"
          ]
        }
      ]
    },
    {
      "cell_type": "code",
      "source": [
        "type ( saludo)"
      ],
      "metadata": {
        "colab": {
          "base_uri": "https://localhost:8080/"
        },
        "id": "Xxzt_9W8X5pD",
        "outputId": "a4915d65-0337-4edd-a58e-8e8f230646f0"
      },
      "execution_count": 6,
      "outputs": [
        {
          "output_type": "execute_result",
          "data": {
            "text/plain": [
              "str"
            ]
          },
          "metadata": {},
          "execution_count": 6
        }
      ]
    },
    {
      "cell_type": "code",
      "source": [
        "type (num)"
      ],
      "metadata": {
        "colab": {
          "base_uri": "https://localhost:8080/"
        },
        "id": "7F8Ilq0nX0mJ",
        "outputId": "216d023a-78b6-4458-c92f-c57a2c38c1a4"
      },
      "execution_count": 7,
      "outputs": [
        {
          "output_type": "execute_result",
          "data": {
            "text/plain": [
              "int"
            ]
          },
          "metadata": {},
          "execution_count": 7
        }
      ]
    },
    {
      "cell_type": "code",
      "source": [
        "# El siguiente código verifica si num y saludo son objetos iguales o diferentes\n",
        "# El resultado arroja un valor booleano\n",
        "type (num) == type(saludo)"
      ],
      "metadata": {
        "colab": {
          "base_uri": "https://localhost:8080/"
        },
        "id": "JiUCxlmXX_li",
        "outputId": "d767c618-94cc-4f3f-d542-5d97bc994a0a"
      },
      "execution_count": 8,
      "outputs": [
        {
          "output_type": "execute_result",
          "data": {
            "text/plain": [
              "False"
            ]
          },
          "metadata": {},
          "execution_count": 8
        }
      ]
    },
    {
      "cell_type": "code",
      "source": [
        "# Convierte un entero a flotante\n",
        "float(num)\n"
      ],
      "metadata": {
        "colab": {
          "base_uri": "https://localhost:8080/"
        },
        "id": "nDAKN_DFZCzE",
        "outputId": "d12cd6cd-1507-47e8-9c72-7da354f92dcd"
      },
      "execution_count": 9,
      "outputs": [
        {
          "output_type": "execute_result",
          "data": {
            "text/plain": [
              "5.0"
            ]
          },
          "metadata": {},
          "execution_count": 9
        }
      ]
    },
    {
      "cell_type": "code",
      "source": [
        "nums= str(num)"
      ],
      "metadata": {
        "id": "qX0FNW1tZU8A"
      },
      "execution_count": 12,
      "outputs": []
    },
    {
      "cell_type": "code",
      "source": [
        "type(nums)== type(saludo)"
      ],
      "metadata": {
        "colab": {
          "base_uri": "https://localhost:8080/"
        },
        "id": "ZsvagBKuZr2J",
        "outputId": "e2846d9d-0d91-4793-d798-23a6891a9042"
      },
      "execution_count": 17,
      "outputs": [
        {
          "output_type": "execute_result",
          "data": {
            "text/plain": [
              "True"
            ]
          },
          "metadata": {},
          "execution_count": 17
        }
      ]
    },
    {
      "cell_type": "code",
      "source": [
        "# Vamos a mostrar los elementos de range(10)\n",
        "for i in range (10):\n",
        "  print(i)\n"
      ],
      "metadata": {
        "colab": {
          "base_uri": "https://localhost:8080/"
        },
        "id": "M_ji9vItatF7",
        "outputId": "2ca00915-b939-4252-e080-42ea89e15a36"
      },
      "execution_count": 23,
      "outputs": [
        {
          "output_type": "stream",
          "name": "stdout",
          "text": [
            "0\n",
            "1\n",
            "2\n",
            "3\n",
            "4\n",
            "5\n",
            "6\n",
            "7\n",
            "8\n",
            "9\n"
          ]
        }
      ]
    },
    {
      "cell_type": "markdown",
      "source": [
        "Listas:\n",
        "var=[]"
      ],
      "metadata": {
        "id": "IOE3WbC9dAja"
      }
    },
    {
      "cell_type": "code",
      "source": [
        "lista_1=[1,\"1\", 1.0,[2,3]]"
      ],
      "metadata": {
        "id": "6XDsDi6ddlUx"
      },
      "execution_count": 29,
      "outputs": []
    },
    {
      "cell_type": "code",
      "source": [
        "type(lista_1)"
      ],
      "metadata": {
        "colab": {
          "base_uri": "https://localhost:8080/"
        },
        "id": "izt9OQqNeLpZ",
        "outputId": "b9adcbef-b956-47f6-acfe-5ffb3ca6489d"
      },
      "execution_count": 32,
      "outputs": [
        {
          "output_type": "execute_result",
          "data": {
            "text/plain": [
              "list"
            ]
          },
          "metadata": {},
          "execution_count": 32
        }
      ]
    },
    {
      "cell_type": "code",
      "source": [
        "lista_2= [x for x in range (11)]"
      ],
      "metadata": {
        "id": "hZfI97QMeced"
      },
      "execution_count": 35,
      "outputs": []
    },
    {
      "cell_type": "code",
      "source": [
        "print(lista_2)"
      ],
      "metadata": {
        "colab": {
          "base_uri": "https://localhost:8080/"
        },
        "id": "n6RXV9Gfe3SU",
        "outputId": "4c12bfcd-ced6-46ce-cc97-fc3d6cad2252"
      },
      "execution_count": 36,
      "outputs": [
        {
          "output_type": "stream",
          "name": "stdout",
          "text": [
            "[0, 1, 2, 3, 4, 5, 6, 7, 8, 9, 10]\n"
          ]
        }
      ]
    }
  ]
}