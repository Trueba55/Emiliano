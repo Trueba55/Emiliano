{
  "nbformat": 4,
  "nbformat_minor": 0,
  "metadata": {
    "colab": {
      "provenance": []
    },
    "kernelspec": {
      "name": "python3",
      "display_name": "Python 3"
    },
    "language_info": {
      "name": "python"
    }
  },
  "cells": [
    {
      "cell_type": "code",
      "execution_count": 23,
      "metadata": {
        "id": "0azBpE8VqiZU"
      },
      "outputs": [],
      "source": [
        "class Animal():\n",
        "\n",
        "  def __init__(self):\n",
        "    print(\"Animal class creada\")\n",
        "\n",
        "  def guess_who(self):\n",
        "    print(\"Soy un animalito\")\n",
        "\n",
        "  def sleep(self):\n",
        "    print(\"Estoy durmiendo\")"
      ]
    },
    {
      "cell_type": "code",
      "source": [
        "#Cursor\n",
        " my_animal = Animal()"
      ],
      "metadata": {
        "colab": {
          "base_uri": "https://localhost:8080/"
        },
        "id": "N9WNfvX_roVe",
        "outputId": "be8a5e2f-d8a8-480d-e0f3-3cfddd0ec638"
      },
      "execution_count": 24,
      "outputs": [
        {
          "output_type": "stream",
          "name": "stdout",
          "text": [
            "Animal class creada\n"
          ]
        }
      ]
    },
    {
      "cell_type": "code",
      "source": [
        "my_animal.sleep()"
      ],
      "metadata": {
        "colab": {
          "base_uri": "https://localhost:8080/"
        },
        "id": "ZJqyhkSktlP-",
        "outputId": "1391888e-f669-446a-8e65-ded0fc1b4699"
      },
      "execution_count": 21,
      "outputs": [
        {
          "output_type": "stream",
          "name": "stdout",
          "text": [
            "Estoy durmiendo\n"
          ]
        }
      ]
    },
    {
      "cell_type": "code",
      "source": [
        "class Cat(Animal):\n",
        "  def __init__(self):\n",
        "    Animal.__init__(self)\n",
        "    print(\"Cat class creada\")\n",
        "\n",
        "  def guess_who(self):\n",
        "    print(\"Soy un gatito\")\n",
        "\n",
        "  def meow(self):\n",
        "    print(\"MEOWW!\")"
      ],
      "metadata": {
        "id": "FyGVZbbJt6Pc"
      },
      "execution_count": 39,
      "outputs": []
    },
    {
      "cell_type": "code",
      "source": [
        "my_cat = Cat()"
      ],
      "metadata": {
        "colab": {
          "base_uri": "https://localhost:8080/"
        },
        "id": "h_UV-DtNwjo5",
        "outputId": "e9af7ddf-5fa5-4541-f51f-b4f042d696a9"
      },
      "execution_count": 40,
      "outputs": [
        {
          "output_type": "stream",
          "name": "stdout",
          "text": [
            "Animal class creada\n",
            "Cat class creada\n"
          ]
        }
      ]
    },
    {
      "cell_type": "code",
      "source": [
        "my_cat.guess_who()\n"
      ],
      "metadata": {
        "colab": {
          "base_uri": "https://localhost:8080/"
        },
        "id": "vI8i_N8CwwRN",
        "outputId": "3a10fae4-07c1-46a0-c618-304946c273bf"
      },
      "execution_count": 41,
      "outputs": [
        {
          "output_type": "stream",
          "name": "stdout",
          "text": [
            "Soy un gatito\n"
          ]
        }
      ]
    },
    {
      "cell_type": "code",
      "source": [
        "my_cat.meow ()"
      ],
      "metadata": {
        "colab": {
          "base_uri": "https://localhost:8080/"
        },
        "id": "MAnDRL-Vw_E4",
        "outputId": "9d5e5fe1-932b-4667-ec5c-d9f8624b8f5a"
      },
      "execution_count": 42,
      "outputs": [
        {
          "output_type": "stream",
          "name": "stdout",
          "text": [
            "MEOWW!\n"
          ]
        }
      ]
    },
    {
      "cell_type": "markdown",
      "source": [
        "#Polymorphism"
      ],
      "metadata": {
        "id": "W7kkc_E3xg_3"
      }
    },
    {
      "cell_type": "code",
      "source": [
        "class Doggy():\n",
        "\n",
        "  def __init__(self, name, raza):\n",
        "    self.name = name\n",
        "    self.raza = raza\n",
        "\n",
        "  def speak(self):\n",
        "    return self.name + \" Says WOOF! \""
      ],
      "metadata": {
        "id": "inJeIuHKxlKg"
      },
      "execution_count": 54,
      "outputs": []
    },
    {
      "cell_type": "code",
      "source": [
        "class Catty():\n",
        "\n",
        "  def __init__(self, name, raza):\n",
        "    self.name = name\n",
        "    self.raza = raza\n",
        "\n",
        "  def speak(self):\n",
        "    return self.name + \" Says MEOW! \""
      ],
      "metadata": {
        "id": "1-yAkp2Kyk53"
      },
      "execution_count": 55,
      "outputs": []
    },
    {
      "cell_type": "code",
      "source": [
        "my_dog = Doggy(\"Buzz\", \"Dalmata\")\n",
        "my_cat = Catty( \"Tom\",\" Persa\")"
      ],
      "metadata": {
        "id": "e63EuPFIy-Xx"
      },
      "execution_count": 56,
      "outputs": []
    },
    {
      "cell_type": "code",
      "source": [
        "my_dog.speak()"
      ],
      "metadata": {
        "colab": {
          "base_uri": "https://localhost:8080/",
          "height": 35
        },
        "id": "Sviv5SRa0LyG",
        "outputId": "48cf0130-5700-48c9-d33a-7e8e8175f205"
      },
      "execution_count": 57,
      "outputs": [
        {
          "output_type": "execute_result",
          "data": {
            "text/plain": [
              "'Buzz Says WOOF! '"
            ],
            "application/vnd.google.colaboratory.intrinsic+json": {
              "type": "string"
            }
          },
          "metadata": {},
          "execution_count": 57
        }
      ]
    },
    {
      "cell_type": "code",
      "source": [
        "my_cat.speak()"
      ],
      "metadata": {
        "colab": {
          "base_uri": "https://localhost:8080/",
          "height": 35
        },
        "id": "QT2_-Y2D0POJ",
        "outputId": "959778da-0f6a-4556-fde3-e38a323b0554"
      },
      "execution_count": 58,
      "outputs": [
        {
          "output_type": "execute_result",
          "data": {
            "text/plain": [
              "'Tom Says MEOW! '"
            ],
            "application/vnd.google.colaboratory.intrinsic+json": {
              "type": "string"
            }
          },
          "metadata": {},
          "execution_count": 58
        }
      ]
    }
  ]
}