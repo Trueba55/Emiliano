{
  "nbformat": 4,
  "nbformat_minor": 0,
  "metadata": {
    "colab": {
      "provenance": []
    },
    "kernelspec": {
      "name": "python3",
      "display_name": "Python 3"
    },
    "language_info": {
      "name": "python"
    }
  },
  "cells": [
    {
      "cell_type": "markdown",
      "source": [
        "# Condicionales: If... elif...else"
      ],
      "metadata": {
        "id": "aH6rF3RBcF2u"
      }
    },
    {
      "cell_type": "markdown",
      "source": [
        "# Ejemplo 1"
      ],
      "metadata": {
        "id": "ZU6lm9nBdWu9"
      }
    },
    {
      "cell_type": "code",
      "source": [
        "letra = \"A\"\n",
        "if letra == \"B\":\n",
        "  print(\"La letra es B\")\n",
        "\n",
        "elif letra == \"C\":\n",
        "  print(\"La letra es C \")\n",
        "\n",
        "elif letra == \"A\":\n",
        "  print(\"La letra es A\")\n",
        "else:\n",
        "  print(\"La letra no es ni A, ni B, ni C\")"
      ],
      "metadata": {
        "colab": {
          "base_uri": "https://localhost:8080/"
        },
        "id": "NK8t8QI4cBnG",
        "outputId": "9126391b-f1c8-4962-a2e9-f6fdbc560d80"
      },
      "execution_count": 2,
      "outputs": [
        {
          "output_type": "stream",
          "name": "stdout",
          "text": [
            "La letra es A\n"
          ]
        }
      ]
    },
    {
      "cell_type": "markdown",
      "source": [
        "# Ejemplo 2"
      ],
      "metadata": {
        "id": "5d2-lDBZdark"
      }
    },
    {
      "cell_type": "code",
      "source": [
        "numero = int(input(\"Escribe un numero\" ))"
      ],
      "metadata": {
        "colab": {
          "base_uri": "https://localhost:8080/"
        },
        "id": "c5frCsZGdYPi",
        "outputId": "4b615e70-5ef0-4f27-ec15-841895ddbda5"
      },
      "execution_count": 13,
      "outputs": [
        {
          "name": "stdout",
          "output_type": "stream",
          "text": [
            "Escribe un numero8\n"
          ]
        }
      ]
    },
    {
      "cell_type": "code",
      "source": [
        "if numero % 2 == 0 and numero % 4 != 0:\n",
        "  print(f\"{numero} es multiplo de dos \")\n",
        "elif numero % 4 == 0:\n",
        "  print(f\"{numero} es multiplo de cuatro y de dos  \")\n",
        "else:\n",
        "  print(f\"{numero} es multiplo de dos  \")"
      ],
      "metadata": {
        "colab": {
          "base_uri": "https://localhost:8080/"
        },
        "id": "s8lf1sQjeGzN",
        "outputId": "e6ec30f1-226d-429a-cc22-873fb9ba7b18"
      },
      "execution_count": 14,
      "outputs": [
        {
          "output_type": "stream",
          "name": "stdout",
          "text": [
            "8 es multiplo de cuatro y de dos  \n"
          ]
        }
      ]
    },
    {
      "cell_type": "markdown",
      "source": [
        "# Ejemplo Propio\n"
      ],
      "metadata": {
        "id": "ox_ShJGbg45Y"
      }
    },
    {
      "cell_type": "code",
      "source": [
        "ventas = int(input (\"Cuantas ventas tuvo la empresa (en millones): \"))\n"
      ],
      "metadata": {
        "colab": {
          "base_uri": "https://localhost:8080/"
        },
        "id": "ffMA-SJUg7uX",
        "outputId": "08762548-9179-4c5f-fc2c-beee5e1c86cd"
      },
      "execution_count": 20,
      "outputs": [
        {
          "name": "stdout",
          "output_type": "stream",
          "text": [
            "Cuantas ventas tuvo la empresa (en millones): 70\n"
          ]
        }
      ]
    },
    {
      "cell_type": "code",
      "source": [
        "if ventas > 50 and ventas < 30  :\n",
        "  print(f\"{ventas} La franquicia llego al minimo de ventas  \")\n",
        "elif ventas < 30 :\n",
        "  print(f\"{ventas} La franquicia no llego al limites de ventas  \")\n",
        "else:\n",
        "  print(f\"{ventas}  La franquicia tiene diferentes ventas  \")"
      ],
      "metadata": {
        "colab": {
          "base_uri": "https://localhost:8080/"
        },
        "id": "C84tizTRhTft",
        "outputId": "b11aec7f-8cde-44e6-a577-cd59026d8779"
      },
      "execution_count": 22,
      "outputs": [
        {
          "output_type": "stream",
          "name": "stdout",
          "text": [
            "70  La franquicia tiene diferentes ventas  \n"
          ]
        }
      ]
    },
    {
      "cell_type": "markdown",
      "source": [
        "# Clases y Polimorfismos"
      ],
      "metadata": {
        "id": "2WIT95_klBuz"
      }
    },
    {
      "cell_type": "code",
      "source": [
        "class Mascota:\n",
        "  def hable(self):\n",
        "    return NotImplementedError\n",
        "class Perro(Mascota):\n",
        "  def hable (self):\n",
        "    return \"Woof\"\n",
        "class Gato(Mascota):\n",
        "  def hable(self):\n",
        "    return\"Miau\""
      ],
      "metadata": {
        "id": "VtL1kzpclFtN"
      },
      "execution_count": 23,
      "outputs": []
    },
    {
      "cell_type": "code",
      "source": [
        "# Vamos a crear una lista de Mascotas\n",
        "\n",
        "mascotas= [Perro(), Gato()] # Generador de objetos dentro de la clase"
      ],
      "metadata": {
        "id": "A18BlRHqoL8i"
      },
      "execution_count": 24,
      "outputs": []
    },
    {
      "cell_type": "code",
      "source": [
        "mascotas"
      ],
      "metadata": {
        "colab": {
          "base_uri": "https://localhost:8080/"
        },
        "id": "HpYal2bLoai5",
        "outputId": "ea30124a-082a-4165-b9ce-b74f3edf7389"
      },
      "execution_count": 25,
      "outputs": [
        {
          "output_type": "execute_result",
          "data": {
            "text/plain": [
              "[<__main__.Perro at 0x7f904e441a80>, <__main__.Gato at 0x7f904e4412d0>]"
            ]
          },
          "metadata": {},
          "execution_count": 25
        }
      ]
    },
    {
      "cell_type": "code",
      "source": [
        "for mascota in mascotas:\n",
        "  print(mascota.hable())"
      ],
      "metadata": {
        "colab": {
          "base_uri": "https://localhost:8080/"
        },
        "id": "xLU2BRsBpCtM",
        "outputId": "f379c5ed-93c8-4d25-d201-50cdd97fa82d"
      },
      "execution_count": 28,
      "outputs": [
        {
          "output_type": "stream",
          "name": "stdout",
          "text": [
            "Woof\n",
            "Miau\n"
          ]
        }
      ]
    },
    {
      "cell_type": "markdown",
      "source": [
        "# Ejemplo Propio"
      ],
      "metadata": {
        "id": "DosZlBoypuI2"
      }
    },
    {
      "cell_type": "code",
      "source": [
        "class Mascota:\n",
        "  def hable(self):\n",
        "    return NotImplementedError\n",
        "class Perro(Mascota):\n",
        "  def hable (self):\n",
        "    return \"Woof\"\n",
        "class Gato(Mascota):\n",
        "  def hable(self):\n",
        "    return\"Miau\"\n",
        "class Cerdo(Mascota):\n",
        "  def hable(self):\n",
        "    return\"Oink Oink \"\n",
        "class Serpiente (Mascota):\n",
        "  def hable(self):\n",
        "    return\"Tszzz\"\n"
      ],
      "metadata": {
        "id": "cjC2rgWSptaf"
      },
      "execution_count": 29,
      "outputs": []
    },
    {
      "cell_type": "code",
      "source": [
        "mascotas= [Perro(), Gato(), Cerdo(), Serpiente()] # Generador de objetos dentro de la clase"
      ],
      "metadata": {
        "id": "NFCBziR4qB0e"
      },
      "execution_count": 30,
      "outputs": []
    },
    {
      "cell_type": "code",
      "source": [
        "for mascota in mascotas:\n",
        "  print(mascota.hable())"
      ],
      "metadata": {
        "colab": {
          "base_uri": "https://localhost:8080/"
        },
        "id": "eTSdJZhOqIb5",
        "outputId": "55a66eaf-c7f2-4544-948c-64af57d6a21f"
      },
      "execution_count": 31,
      "outputs": [
        {
          "output_type": "stream",
          "name": "stdout",
          "text": [
            "Woof\n",
            "Miau\n",
            "Oink Oink \n",
            "Tszzz\n"
          ]
        }
      ]
    },
    {
      "cell_type": "code",
      "source": [
        "class Persona:\n",
        "  def __init__(self, nombre, edad ):\n",
        "    self.nombre = nombre\n",
        "    self.edad = edad"
      ],
      "metadata": {
        "id": "rpdeV9R8q9Uk"
      },
      "execution_count": 32,
      "outputs": []
    },
    {
      "cell_type": "code",
      "source": [
        "Daniela = Persona (\"Daniela\", 21)"
      ],
      "metadata": {
        "id": "Y-4nfH_wrYQC"
      },
      "execution_count": 37,
      "outputs": []
    },
    {
      "cell_type": "code",
      "source": [
        "Daniela.nombre"
      ],
      "metadata": {
        "colab": {
          "base_uri": "https://localhost:8080/",
          "height": 35
        },
        "id": "jHDkIMeSrqOx",
        "outputId": "f9b3d266-b8fb-4bd4-ec6a-7b1891375342"
      },
      "execution_count": 38,
      "outputs": [
        {
          "output_type": "execute_result",
          "data": {
            "text/plain": [
              "'Daniela'"
            ],
            "application/vnd.google.colaboratory.intrinsic+json": {
              "type": "string"
            }
          },
          "metadata": {},
          "execution_count": 38
        }
      ]
    },
    {
      "cell_type": "code",
      "source": [
        "Daniela.edad"
      ],
      "metadata": {
        "colab": {
          "base_uri": "https://localhost:8080/"
        },
        "id": "RTwGhAUSr3q8",
        "outputId": "db8c0bfd-d74e-4e5f-9d90-63e7224019a7"
      },
      "execution_count": 39,
      "outputs": [
        {
          "output_type": "execute_result",
          "data": {
            "text/plain": [
              "21"
            ]
          },
          "metadata": {},
          "execution_count": 39
        }
      ]
    }
  ]
}