{
  "nbformat": 4,
  "nbformat_minor": 0,
  "metadata": {
    "colab": {
      "provenance": []
    },
    "kernelspec": {
      "name": "python3",
      "display_name": "Python 3"
    },
    "language_info": {
      "name": "python"
    }
  },
  "cells": [
    {
      "cell_type": "markdown",
      "source": [
        "# Condiciones"
      ],
      "metadata": {
        "id": "WywdBMAcZIjT"
      }
    },
    {
      "cell_type": "code",
      "execution_count": null,
      "metadata": {
        "colab": {
          "base_uri": "https://localhost:8080/"
        },
        "id": "cFfwNdNMX3W-",
        "outputId": "d52724c9-1921-4bca-ed06-bf1d74c9a845"
      },
      "outputs": [
        {
          "output_type": "stream",
          "name": "stdout",
          "text": [
            "El numero es par y es mayor a 10\n"
          ]
        }
      ],
      "source": [
        "# Ejemplo\n",
        "x = 34\n",
        "\n",
        "if x % 2 == 0:\n",
        "  if x > 10:\n",
        "    print(\"El numero es par y es mayor a 10\")\n",
        "  else:\n",
        "      print(\"El numero es par pero no es mayor a 10\")\n",
        "else:\n",
        "     print(\"El numero no es par\")"
      ]
    }
  ]
}