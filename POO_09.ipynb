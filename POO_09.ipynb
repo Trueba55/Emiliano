{
  "nbformat": 4,
  "nbformat_minor": 0,
  "metadata": {
    "colab": {
      "provenance": []
    },
    "kernelspec": {
      "name": "python3",
      "display_name": "Python 3"
    },
    "language_info": {
      "name": "python"
    }
  },
  "cells": [
    {
      "cell_type": "code",
      "execution_count": null,
      "metadata": {
        "id": "Se6sDXfjh2bb"
      },
      "outputs": [],
      "source": [
        "class Messi():\n",
        "  def __int__(self):\n",
        "    print(\"La clase Messi se ha creado\")\n",
        "\n",
        "  def guess_who(self):\n",
        "    print(\"Yo soy Messi\")\n",
        "\n",
        "  def goles(self):\n",
        "    print(\"Llevo 35 goles en la Liga del 2014/2015\")\n",
        "\n",
        "\n",
        "\n",
        "\n",
        "\n"
      ]
    },
    {
      "cell_type": "code",
      "source": [
        "messi = Messi() #Cursor\n",
        "messi"
      ],
      "metadata": {
        "colab": {
          "base_uri": "https://localhost:8080/"
        },
        "id": "YTjkU4MErLsl",
        "outputId": "9155af8b-0c91-42a9-cce9-e1b4fbe7b1f4"
      },
      "execution_count": null,
      "outputs": [
        {
          "output_type": "execute_result",
          "data": {
            "text/plain": [
              "<__main__.Messi at 0x7cc7e3067ee0>"
            ]
          },
          "metadata": {},
          "execution_count": 3
        }
      ]
    },
    {
      "cell_type": "code",
      "source": [
        "messi.guess_who()\n"
      ],
      "metadata": {
        "colab": {
          "base_uri": "https://localhost:8080/"
        },
        "id": "EqIotCWBr2H8",
        "outputId": "e61840c9-30d3-45f9-c733-ffeef1858ebc"
      },
      "execution_count": null,
      "outputs": [
        {
          "output_type": "stream",
          "name": "stdout",
          "text": [
            "Yo soy Messi\n"
          ]
        }
      ]
    },
    {
      "cell_type": "code",
      "source": [
        "messi.goles()"
      ],
      "metadata": {
        "colab": {
          "base_uri": "https://localhost:8080/"
        },
        "id": "P9eopT2mr7wo",
        "outputId": "49f0b4ab-98a7-4d56-ba96-b3548fa3be17"
      },
      "execution_count": null,
      "outputs": [
        {
          "output_type": "stream",
          "name": "stdout",
          "text": [
            "Llevo 35 goles en la Liga del 2014/2015\n"
          ]
        }
      ]
    },
    {
      "cell_type": "code",
      "source": [
        "# Creamos una nueva clase con poliformismos para Messi"
      ],
      "metadata": {
        "id": "9-X7civItnrK"
      },
      "execution_count": null,
      "outputs": []
    },
    {
      "cell_type": "code",
      "source": [
        "class Messi_bcn():\n",
        "    def __init__(self, name, goles, campeonatos):\n",
        "        self.name = name\n",
        "        self.goles = goles\n",
        "        self.campeonatos = campeonatos\n",
        "\n",
        "    def obtener_nombre(self):\n",
        "        return self.name + \" - Yo soy Messi\"\n",
        "\n",
        "    def obtener_goles(self):\n",
        "        return str(self.goles) + \" goles en total\"\n",
        "\n",
        "    def obtener_campeonatos(self):\n",
        "        return str(self.campeonatos) + \" campeonatos en total\"\n",
        "\n",
        "\n",
        "\n",
        "\n",
        "\n",
        "\n"
      ],
      "metadata": {
        "id": "1AbjGRr4r-nb"
      },
      "execution_count": null,
      "outputs": []
    }
  ]
}