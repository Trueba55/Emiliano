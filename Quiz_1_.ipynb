{
  "nbformat": 4,
  "nbformat_minor": 0,
  "metadata": {
    "colab": {
      "provenance": []
    },
    "kernelspec": {
      "name": "python3",
      "display_name": "Python 3"
    },
    "language_info": {
      "name": "python"
    }
  },
  "cells": [
    {
      "cell_type": "markdown",
      "source": [
        "# Quiz 1"
      ],
      "metadata": {
        "id": "FzqN-wQCdfo6"
      }
    },
    {
      "cell_type": "markdown",
      "source": [
        "1.- Crea un diccionario que contenga 3 llaves que sean de tipo string y cuyos valores sean una lista que contenga 5 valores (3 numéricos y 2 flotantes).\n",
        "\n",
        "2.- A partir del diccionario anterior, muestra a sus ítems. ¿Qué tipo de objeto se obtiene?\n",
        "\n",
        "3.- Crea un panel de datos usando tu diccionario. Realiza tres segregaciones distintas.\n",
        "\n",
        "4.- Realiza un breve análisis descriptivo de tu panel de datos. Explica los valores que obtienes.\n",
        "\n",
        "5.- Realiza dos filtros de búsqueda sobre tu panel de datos."
      ],
      "metadata": {
        "id": "g7AeobqFdrY6"
      }
    },
    {
      "cell_type": "code",
      "execution_count": null,
      "metadata": {
        "id": "vEzJIIjKde7e"
      },
      "outputs": [],
      "source": [
        "# Pregunta 1\n",
        "\n",
        "# Se creo un diccionario llamado años\n",
        "\n",
        "import pandas as pd\n",
        "\n",
        "años={\"Año1\":[5,10.5,15,20.5,25,], \"Año2\": [2,4.5,6,8.5,10],\"Año3\": [3,6.5,9,12.5,15]}"
      ]
    },
    {
      "cell_type": "code",
      "source": [
        "# Pregunta 2\n",
        "\n",
        "# Se creo una variable llamada añosdicc que nos sirvio para poder mostrar los datos que estan en el diccionario anteriormente creado, y nos arroja los valores string\n",
        "\n",
        "añosdicc= años.items()\n",
        "print(añosdicc)"
      ],
      "metadata": {
        "colab": {
          "base_uri": "https://localhost:8080/"
        },
        "id": "UY4uao8Ifv04",
        "outputId": "a5334280-67fb-44b7-a4d7-0f15bb9773c4"
      },
      "execution_count": null,
      "outputs": [
        {
          "output_type": "stream",
          "name": "stdout",
          "text": [
            "dict_items([('Año1', [5, 10.5, 15, 20.5, 25]), ('Año2', [2, 4.5, 6, 8.5, 10]), ('Año3', [3, 6.5, 9, 12.5, 15])])\n"
          ]
        }
      ]
    },
    {
      "cell_type": "code",
      "source": [
        "# Pregunta 3\n",
        "\n",
        "# Se creo la funcion paneldatos para poder acomodar nuestros datos en forma de panel, a su vez hicimos 3 segregaciones usando los datos del diccionario, esto con la finalidad de separar los datos en diferentes paneles\n",
        "\n",
        "import pandas as pd\n",
        "paneldatos = pd.DataFrame(años)\n",
        "\n",
        "s1 = paneldatos [\"Año1\"]\n",
        "s2 = paneldatos[[\"Año2\", \"Año3\"]]\n",
        "s3 = paneldatos.iloc[1:4, 0:2]\n",
        "\n",
        "print(\"\\Ej 1:\\n\", s1)\n",
        "print(\"\\EJ 2:\\n\", s2)\n",
        "print(\"\\EJ 3:\\n\", s3)\n",
        "\n",
        "\n",
        "\n"
      ],
      "metadata": {
        "colab": {
          "base_uri": "https://localhost:8080/"
        },
        "id": "4LT9HRCHgYVT",
        "outputId": "1077f571-8107-4496-d5d8-75db96d82ef9"
      },
      "execution_count": null,
      "outputs": [
        {
          "output_type": "stream",
          "name": "stdout",
          "text": [
            "\\Ej 1:\n",
            " 0     5.0\n",
            "1    10.5\n",
            "2    15.0\n",
            "3    20.5\n",
            "4    25.0\n",
            "Name: Año1, dtype: float64\n",
            "\\EJ 2:\n",
            "    Año2  Año3\n",
            "0   2.0   3.0\n",
            "1   4.5   6.5\n",
            "2   6.0   9.0\n",
            "3   8.5  12.5\n",
            "4  10.0  15.0\n",
            "\\EJ 3:\n",
            "    Año1  Año2\n",
            "1  10.5   4.5\n",
            "2  15.0   6.0\n",
            "3  20.5   8.5\n"
          ]
        }
      ]
    },
    {
      "cell_type": "code",
      "source": [
        "# Pregunta 4\n",
        "\n",
        "# Se creo una funcion de analisis para poder observar de manera mas correcta la informacion de los datos de nuestro diccionario\n",
        "\n",
        "analisis = paneldatos.describe()\n",
        "print(analisis)\n"
      ],
      "metadata": {
        "colab": {
          "base_uri": "https://localhost:8080/"
        },
        "id": "HMlF6vTTjJ6j",
        "outputId": "c794731d-60e3-43f8-d2bc-5c6abc2b4815"
      },
      "execution_count": null,
      "outputs": [
        {
          "output_type": "stream",
          "name": "stdout",
          "text": [
            "            Año1       Año2       Año3\n",
            "count   5.000000   5.000000   5.000000\n",
            "mean   15.200000   6.200000   9.200000\n",
            "std     7.910436   3.174114   4.751316\n",
            "min     5.000000   2.000000   3.000000\n",
            "25%    10.500000   4.500000   6.500000\n",
            "50%    15.000000   6.000000   9.000000\n",
            "75%    20.500000   8.500000  12.500000\n",
            "max    25.000000  10.000000  15.000000\n"
          ]
        }
      ]
    },
    {
      "cell_type": "code",
      "source": [
        "# Pregunta 5\n",
        "\n",
        "# Se crearon dos filtros; f1 y f2, las cuales nos sirven para filtrar los datos a la manera que nosostros queramos.\n",
        "\n",
        "f1 = paneldatos[paneldatos[\"Año1\"] > 10]\n",
        "f2 = paneldatos[paneldatos[\"Año2\"] < 10]\n",
        "\n",
        "print(f1)\n",
        "print(f2)\n"
      ],
      "metadata": {
        "colab": {
          "base_uri": "https://localhost:8080/"
        },
        "id": "pPAGl32zjiqY",
        "outputId": "c08ef4d4-db7e-4691-e233-9011d63e7341"
      },
      "execution_count": null,
      "outputs": [
        {
          "output_type": "stream",
          "name": "stdout",
          "text": [
            "   Año1  Año2  Año3\n",
            "1  10.5   4.5   6.5\n",
            "2  15.0   6.0   9.0\n",
            "3  20.5   8.5  12.5\n",
            "4  25.0  10.0  15.0\n",
            "   Año1  Año2  Año3\n",
            "0   5.0   2.0   3.0\n",
            "1  10.5   4.5   6.5\n",
            "2  15.0   6.0   9.0\n",
            "3  20.5   8.5  12.5\n"
          ]
        }
      ]
    }
  ]
}