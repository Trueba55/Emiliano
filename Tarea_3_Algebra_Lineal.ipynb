{
  "nbformat": 4,
  "nbformat_minor": 0,
  "metadata": {
    "colab": {
      "provenance": []
    },
    "kernelspec": {
      "name": "python3",
      "display_name": "Python 3"
    },
    "language_info": {
      "name": "python"
    }
  },
  "cells": [
    {
      "cell_type": "markdown",
      "source": [
        "## Todos los ejercicios tienen qué estar documentados en Python y comentados."
      ],
      "metadata": {
        "id": "kDeBr9JDUgZ0"
      }
    },
    {
      "cell_type": "markdown",
      "source": [
        "1. Se tienen las siguientes matrices:\n",
        "\\begin{split}\n",
        "\\begin{equation}\n",
        "E = \\left[ \\begin{array}{r} 5 \\\\ -2 \\end{array}\\right] \\hspace{1cm}\n",
        "F = \\left[ \\begin{array}{rr} 1 & 6 \\\\ 2 & 0 \\\\ -1 & -1 \\end{array}\\right] \\hspace{1cm}\n",
        "G = \\left[ \\begin{array}{rr} 2 & 0\\\\ -1 & 3 \\\\ -1 & 6 \\end{array}\\right] \\hspace{1cm}\n",
        "H = \\left[ \\begin{array}{rrr} 3 & 0 & 1 \\\\ 1 & -2 & 2 \\\\ 3 & 4 & -1\\end{array}\\right]\n",
        "\\end{equation}\n",
        "\\end{split}\n",
        "\n",
        "Calcula lo siguiente:\n",
        "\n",
        " $-5E$,$G+F$, $4F-G$, $HG$ y $GE$\n",
        "\n",
        "---\n",
        "\n",
        "2. Encuentra $x$ y $y$ tal que se cumpla:\n",
        "\n",
        "\\begin{split}\n",
        "\\begin{equation}\n",
        "\\left[ \\begin{array}{rr} 1 & 3 \\\\ -4 & 2 \\end{array}\\right]\n",
        "\\left[ \\begin{array}{rr} 3 & x \\\\ 2 & y \\end{array}\\right]=\n",
        "\\left[ \\begin{array}{rr} 9 & 10 \\\\ -8 & 16 \\end{array}\\right]\n",
        "\\end{equation}\n",
        "\\end{split}\n",
        "\n",
        "---\n"
      ],
      "metadata": {
        "id": "ET2VpSosWux_"
      }
    },
    {
      "cell_type": "markdown",
      "source": [
        "3. Genera una matriz de tamaño $3\\times 4$ a partir de una lista de 12 enteros que se eligen al azar del conjunto $\\{1,2,3,\\dots, 100\\}$. Usando las funciones  𝚁𝚘𝚠𝚂𝚠𝚊𝚙,𝚁𝚘𝚠𝚂𝚌𝚊𝚕𝚎 y 𝚁𝚘𝚠𝙰𝚍𝚍, reduce tal matriz.\n",
        "---"
      ],
      "metadata": {
        "id": "11gGGZhNScSW"
      }
    },
    {
      "cell_type": "markdown",
      "source": [
        "4. Usando  𝚁𝚘𝚠𝚂𝚠𝚊𝚙,𝚁𝚘𝚠𝚂𝚌𝚊𝚕𝚎 y 𝚁𝚘𝚠𝙰𝚍𝚍; verifica que el sistema de ecuaciones\n",
        "\n",
        "\\begin{split}\n",
        "\\begin{eqnarray*}\n",
        "x_1 - x_2 + x_3 & = & 3\\\\\n",
        "2x_1 - 2x_2 + 4x_3 & = & 8\\\\\n",
        "3x_1 -3x_2 +3x_3 & = & 9\n",
        "\\end{eqnarray*}\n",
        "\\end{split}\n",
        "\n",
        "tiene solución no única.\n",
        "\n",
        "---"
      ],
      "metadata": {
        "id": "GmW0dYxET8Mr"
      }
    },
    {
      "cell_type": "markdown",
      "source": [
        "5. Realice el proceso de eliminación en el siguiente sistema. Defina una matriz en NumPy y haga uso de las funciones de operación de fila. Imprime los resultados de cada paso. Escriba el sistema triangular superior representado por la matriz después de completar todos los pasos.\n",
        "\n",
        "---\n",
        "\n",
        "6. Usa la eliminación para determinar si el siguiente sistema es consistente o inconsistente.\n",
        "\n",
        "\\begin{split}\n",
        "\\begin{eqnarray*}\n",
        "x_1 - x_2 - x_3 & = & 4\\\\\n",
        "2x_1 - 2x_2 - 2x_3 & = & 8\\\\\n",
        "5x_1 - 5x_2 - 5x_3 & = & 20\n",
        "\\end{eqnarray*}\n",
        "\\end{split}\n",
        "\n",
        "\n",
        "\n",
        "\n",
        "---\n",
        "\n"
      ],
      "metadata": {
        "id": "csR0B2W7Q45P"
      }
    },
    {
      "cell_type": "code",
      "execution_count": null,
      "metadata": {
        "id": "3UYjEEG_Q2I7"
      },
      "outputs": [],
      "source": [
        "import numpy as np\n",
        "\n"
      ]
    },
    {
      "cell_type": "code",
      "source": [
        "#1\n",
        "E = np.array([[5],[-2]])\n",
        "F = np.array([[1,6],[2,0],[-1,-1]])\n",
        "G = np.array([[2, 0],[-1,3],[-1,6]])\n",
        "H = np.array([[3, 0,1],[1,-2,2], [3,4,-1]])\n",
        "minus_5E = -5 * E\n",
        "sum_G_F = np.add(G, F)\n",
        "diff_4F_G = np.subtract(4 * F, G)\n",
        "HG = np.matmul(H,G )\n",
        "GE = np.matmul(G, E)\n",
        "print(\"-5E:\")\n",
        "print(minus_5E)\n",
        "print(\"G + F:\")\n",
        "print(sum_G_F)\n",
        "print(\"4F - G:\")\n",
        "print(diff_4F_G)\n",
        "print(\"HG:\")\n",
        "print(HG)\n",
        "print(\"GE:\")\n",
        "print(GE)"
      ],
      "metadata": {
        "id": "lgquijiXNZk4",
        "outputId": "702ce8dd-ea41-41e3-c3f3-ce52482b80c0",
        "colab": {
          "base_uri": "https://localhost:8080/"
        }
      },
      "execution_count": null,
      "outputs": [
        {
          "output_type": "stream",
          "name": "stdout",
          "text": [
            "-5E:\n",
            "[[-25]\n",
            " [ 10]]\n",
            "G + F:\n",
            "[[ 3  6]\n",
            " [ 1  3]\n",
            " [-2  5]]\n",
            "4F - G:\n",
            "[[  2  24]\n",
            " [  9  -3]\n",
            " [ -3 -10]]\n",
            "HG:\n",
            "[[5 6]\n",
            " [2 6]\n",
            " [3 6]]\n",
            "GE:\n",
            "[[ 10]\n",
            " [-11]\n",
            " [-17]]\n"
          ]
        }
      ]
    },
    {
      "cell_type": "code",
      "source": [
        "#2\n",
        "import numpy as np\n",
        "\n",
        "\n",
        "C = np.array([[9, 10], [-8, 16]])\n",
        "\n",
        "\n",
        "A = np.array([[1, 3], [-4, 2]])\n",
        "\n",
        "\n",
        "A_inv = np.linalg.inv(A)\n",
        "\n",
        "\n",
        "B = np.dot(A_inv, C)\n",
        "\n",
        "\n",
        "x = B[0, 1]\n",
        "y = B[1, 1]\n",
        "\n",
        "\n",
        "print(\"x =\", x)\n",
        "print(\"y =\", y)"
      ],
      "metadata": {
        "id": "cq_srkuLY_M0",
        "outputId": "c9717fba-17c8-435e-9c68-a2f86d06b36d",
        "colab": {
          "base_uri": "https://localhost:8080/"
        }
      },
      "execution_count": null,
      "outputs": [
        {
          "output_type": "stream",
          "name": "stdout",
          "text": [
            "x = -2.0000000000000004\n",
            "y = 3.9999999999999996\n"
          ]
        }
      ]
    },
    {
      "cell_type": "code",
      "source": [
        "#3\n",
        "import numpy as np\n",
        "\n",
        "\n",
        "lista_enteros = np.random.choice(np.arange(1, 101), size=12, replace=False)\n",
        "\n",
        "\n",
        "matriz = np.reshape(lista_enteros, (3, 4))\n",
        "\n",
        "print(\"Matriz original:\")\n",
        "print(matriz)\n",
        "def row_swap(matrix, row1, row2):\n",
        "    matrix[[row1, row2]] = matrix[[row2, row1]]\n",
        "\n",
        "def row_scale(matrix, row, scalar):\n",
        "    matrix[row] *= scalar\n",
        "\n",
        "\n",
        "def row_add(matrix, row1, row2, scalar):\n",
        "    matrix[row1] += scalar * matrix[row2]\n",
        "\n",
        "\n",
        "\n",
        "\n",
        "for i in range(len(matriz)):\n",
        "\n",
        "    if matriz[i, i] == 0:\n",
        "        for j in range(i+1, len(matriz)):\n",
        "            if matriz[j, i] != 0:\n",
        "                matriz[[i, j]] = matriz[[j, i]]\n",
        "                break\n",
        "\n",
        "    matriz[i] = matriz[i] / matriz[i, i]\n",
        "\n",
        "    for j in range(len(matriz)):\n",
        "        if i != j:\n",
        "            matriz[j] = matriz[j] - matriz[j, i] * matriz[i]\n",
        "\n",
        "print(\"Matriz reducida:\")\n",
        "print(matriz)"
      ],
      "metadata": {
        "id": "un2G8ewDepPn",
        "outputId": "094a0448-b488-443f-8e93-69419f1c71d4",
        "colab": {
          "base_uri": "https://localhost:8080/"
        }
      },
      "execution_count": null,
      "outputs": [
        {
          "output_type": "stream",
          "name": "stdout",
          "text": [
            "Matriz original:\n",
            "[[59 63 82 81]\n",
            " [16 60 17 70]\n",
            " [30 99  4 87]]\n",
            "Matriz reducida:\n",
            "[[1 0 0 0]\n",
            " [0 1 0 1]\n",
            " [0 0 1 0]]\n"
          ]
        }
      ]
    },
    {
      "cell_type": "code",
      "source": [
        "#4\n",
        "import numpy as np\n",
        "\n",
        "\n",
        "A = np.array([[1, -1, 3, 3],\n",
        "              [2, -2, 4, 8],\n",
        "              [3, -3, 3, 9]])\n",
        "\n",
        "\n",
        "for i in range(len(A)):\n",
        "\n",
        "    if A[i, i] == 0:\n",
        "        for j in range(i+1, len(A)):\n",
        "            if A[j, i] != 0:\n",
        "                A[[i, j]] = A[[j, i]]\n",
        "                break\n",
        "\n",
        "    A[i] = A[i] / A[i, i]\n",
        "\n",
        "    for j in range(len(A)):\n",
        "        if i != j:\n",
        "            A[j] = A[j] - A[j, i] * A[i]\n",
        "\n",
        "\n",
        "rank = np.linalg.matrix_rank(A[:, :-1])\n",
        "if rank < len(A):\n",
        "    print(\"El sistema tiene solución no única.\")\n",
        "else:\n",
        "    print(\"El sistema tiene solución única.\")"
      ],
      "metadata": {
        "id": "Xfe7bpJibftU",
        "outputId": "82cdab7b-f49b-49da-fbea-197385cd932d",
        "colab": {
          "base_uri": "https://localhost:8080/"
        }
      },
      "execution_count": null,
      "outputs": [
        {
          "output_type": "stream",
          "name": "stdout",
          "text": [
            "El sistema tiene solución no única.\n"
          ]
        },
        {
          "output_type": "stream",
          "name": "stderr",
          "text": [
            "<ipython-input-35-0213d3652ae9>:17: RuntimeWarning: divide by zero encountered in true_divide\n",
            "  A[i] = A[i] / A[i, i]\n",
            "<ipython-input-35-0213d3652ae9>:17: RuntimeWarning: invalid value encountered in true_divide\n",
            "  A[i] = A[i] / A[i, i]\n"
          ]
        }
      ]
    },
    {
      "cell_type": "code",
      "source": [
        "#5\n",
        "import numpy as np\n",
        "\n",
        "\n",
        "matriz = np.random.rand(3, 3)\n",
        "print(\"Matriz original:\")\n",
        "print(matriz)\n",
        "\n",
        "\n",
        "factor = matriz[1, 0] / matriz[0, 0]\n",
        "matriz[1, :] -= factor * matriz[0, :]\n",
        "print(\"Paso 1:\")\n",
        "print(matriz)\n",
        "\n",
        "factor = matriz[2, 0] / matriz[0, 0]\n",
        "matriz[2, :] -= factor * matriz[0, :]\n",
        "print(\"Paso 2:\")\n",
        "print(matriz)\n",
        "\n",
        "\n",
        "factor = matriz[2, 1] / matriz[1, 1]\n",
        "matriz[2, :] -= factor * matriz[1, :]\n",
        "print(\"Paso 3:\")\n",
        "print(matriz)\n",
        "\n",
        "\n",
        "print(\"Matriz triangular superior:\")\n",
        "print(matriz)"
      ],
      "metadata": {
        "id": "yAMnuvOjch8T",
        "outputId": "ea03a987-b999-45b9-91f1-18c22a4c25a9",
        "colab": {
          "base_uri": "https://localhost:8080/"
        }
      },
      "execution_count": null,
      "outputs": [
        {
          "output_type": "stream",
          "name": "stdout",
          "text": [
            "Matriz original:\n",
            "[[0.30766751 0.03555071 0.94961281]\n",
            " [0.59864433 0.86594692 0.82147539]\n",
            " [0.6528318  0.98986336 0.45601214]]\n",
            "Paso 1:\n",
            "[[ 0.30766751  0.03555071  0.94961281]\n",
            " [ 0.          0.7967741  -1.02623457]\n",
            " [ 0.6528318   0.98986336  0.45601214]]\n",
            "Paso 2:\n",
            "[[ 0.30766751  0.03555071  0.94961281]\n",
            " [ 0.          0.7967741  -1.02623457]\n",
            " [ 0.          0.91442923 -1.55894691]]\n",
            "Paso 3:\n",
            "[[ 3.07667511e-01  3.55507069e-02  9.49612806e-01]\n",
            " [ 0.00000000e+00  7.96774102e-01 -1.02623457e+00]\n",
            " [ 0.00000000e+00 -1.11022302e-16 -3.81174088e-01]]\n",
            "Matriz triangular superior:\n",
            "[[ 3.07667511e-01  3.55507069e-02  9.49612806e-01]\n",
            " [ 0.00000000e+00  7.96774102e-01 -1.02623457e+00]\n",
            " [ 0.00000000e+00 -1.11022302e-16 -3.81174088e-01]]\n"
          ]
        }
      ]
    },
    {
      "cell_type": "code",
      "source": [
        "#6\n",
        "import numpy as np\n",
        "\n",
        "\n",
        "A = np.array([[1, -1, -1, 4],\n",
        "              [2, -2, -2, 8],\n",
        "              [5, -5, -5, 20]])\n",
        "\n",
        "\n",
        "for i in range(len(A)):\n",
        "    pivot = A[i, i]\n",
        "    for j in range(i + 1, len(A)):\n",
        "        ratio = A[j, i] / pivot\n",
        "        A[j] = A[j] - ratio * A[i]\n",
        "\n",
        "\n",
        "last_row = A[-1]\n",
        "zeros = np.count_nonzero(last_row[:-1])\n",
        "if zeros == 0 and last_row[-1] != 0:\n",
        "    print(\"El sistema es inconsistente.\")\n",
        "elif zeros == 0 and last_row[-1] == 0:\n",
        "    print(\"El sistema tiene infinitas soluciones.\")\n",
        "else:\n",
        "    print(\"El sistema es consistente.\")"
      ],
      "metadata": {
        "id": "r17jZ3oYdMkz",
        "outputId": "bdd211b8-94d8-4cd3-ca96-4aa2504d2f06",
        "colab": {
          "base_uri": "https://localhost:8080/"
        }
      },
      "execution_count": null,
      "outputs": [
        {
          "output_type": "stream",
          "name": "stdout",
          "text": [
            "El sistema es consistente.\n"
          ]
        },
        {
          "output_type": "stream",
          "name": "stderr",
          "text": [
            "<ipython-input-40-b3d1820b0534>:13: RuntimeWarning: invalid value encountered in long_scalars\n",
            "  ratio = A[j, i] / pivot\n"
          ]
        }
      ]
    }
  ]
}